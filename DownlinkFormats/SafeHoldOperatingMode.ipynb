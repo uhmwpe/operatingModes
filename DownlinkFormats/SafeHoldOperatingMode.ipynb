{
 "cells": [
  {
   "cell_type": "markdown",
   "metadata": {},
   "source": [
    "This is the Safe-Hold Operating Mode dataframe. The data has been written to a csv file which can be read by an exccel file. Sensor information, for now, is tenative. Controls temperature system is also temative. More battery information is also necessary\n"
   ]
  },
  {
   "cell_type": "code",
   "execution_count": 37,
   "metadata": {},
   "outputs": [],
   "source": [
    "import pandas as pd\n",
    "import numpy as np\n",
    "\n",
    "d = {'Quantity' : 'np.nan', 'Hardware': 'np.nan', 'Interface': 'np.nan', 'Bits': 'np.nan', 'Hex Charachters': np.nan}\n",
    "\n",
    "#df = pd.DataFrame([[1, 2], [3, 4]], columns=list('AB'))\n",
    "df = pd.DataFrame([['year (timestamp)', 'RTC', 'I2C', 12, 3]], columns=list(['Quantity', 'Hardware', 'Interface', 'Bits', 'Hex Charachters']))\n",
    "df2 = pd.DataFrame([['month (timestamp)', 'RTC', 'I2C', 4, 1]], columns=list(['Quantity', 'Hardware', 'Interface', 'Bits', 'Hex Charachters']))\n",
    "df = df.append(df2)\n",
    "df2 = pd.DataFrame([['date (timestamp)', 'RTC', 'I2C', 8, 2]], columns=list(['Quantity', 'Hardware', 'Interface', 'Bits', 'Hex Charachters']))\n",
    "df = df.append(df2)\n",
    "df2 = pd.DataFrame([['hour (timestamp)', 'RTC', 'I2C', 8, 2]], columns=list(['Quantity', 'Hardware', 'Interface', 'Bits', 'Hex Charachters']))\n",
    "df = df.append(df2)\n",
    "df2 = pd.DataFrame([['minute (timestamp)', 'RTC', 'I2C', 8, 2]], columns=list(['Quantity', 'Hardware', 'Interface', 'Bits', 'Hex Charachters']))\n",
    "df = df.append(df2)\n",
    "df2 = pd.DataFrame([['seconds (timestamp)', 'RTC', 'I2C', 8, 2]], columns=list(['Quantity', 'Hardware', 'Interface', 'Bits', 'Hex Charachters']))\n",
    "df = df.append(df2)\n",
    "df2 = pd.DataFrame([['Controls Board Temp', 'Controls Board', 'I2C', 12, 3]], columns=list(['Quantity', 'Hardware', 'Interface', 'Bits', 'Hex Charachters']))\n",
    "df = df.append(df2)\n",
    "df2 = pd.DataFrame([['Controls Reserved', 'Controls Board', 'I2C', 12, 3]], columns=list(['Quantity', 'Hardware', 'Interface', 'Bits', 'Hex Charachters']))\n",
    "df = df.append(df2)\n",
    "df2 = pd.DataFrame([['Controls Reserved', 'Controls Board', 'I2C', 12, 3]], columns=list(['Quantity', 'Hardware', 'Interface', 'Bits', 'Hex Charachters']))\n",
    "df = df.append(df2)\n",
    "df2 = pd.DataFrame([['Controls Reserved', 'Controls Board', 'I2C', 12, 3]], columns=list(['Quantity', 'Hardware', 'Interface', 'Bits', 'Hex Charachters']))\n",
    "df = df.append(df2)\n",
    "df2 = pd.DataFrame([['IMU X', 'Controls Board', 'I2C', 12, 3]], columns=list(['Quantity', 'Hardware', 'Interface', 'Bits', 'Hex Charachters']))\n",
    "df = df.append(df2)\n",
    "df2 = pd.DataFrame([['IMU Y', 'Controls Board', 'I2C', 12, 3]], columns=list(['Quantity', 'Hardware', 'Interface', 'Bits', 'Hex Charachters']))\n",
    "df = df.append(df2)\n",
    "df2 = pd.DataFrame([['IMU Z', 'Controls Board', 'I2C', 12, 3]], columns=list(['Quantity', 'Hardware', 'Interface', 'Bits', 'Hex Charachters']))\n",
    "df = df.append(df2)\n",
    "df2 = pd.DataFrame([['IMU Temp', 'Controls Board', 'I2C', 12, 3]], columns=list(['Quantity', 'Hardware', 'Interface', 'Bits', 'Hex Charachters']))\n",
    "df = df.append(df2)\n",
    "df2 = pd.DataFrame([['Battery Voltage', 'EPS Board', 'TBD', 10, 3]], columns=list(['Quantity', 'Hardware', 'Interface', 'Bits', 'Hex Charachters']))\n",
    "df = df.append(df2)\n",
    "df2 = pd.DataFrame([['Battery Current', 'EPS Board', 'TBD', 10, 3]], columns=list(['Quantity', 'Hardware', 'Interface', 'Bits', 'Hex Charachters']))\n",
    "df = df.append(df2)\n",
    "df2 = pd.DataFrame([['Battery Bus Current', 'EPS Board', 'TBD', 10, 3]], columns=list(['Quantity', 'Hardware', 'Interface', 'Bits', 'Hex Charachters']))\n",
    "df = df.append(df2)\n",
    "df2 = pd.DataFrame([['Battery Current Direction', 'EPS Board', 'TBD', 10, 3]], columns=list(['Quantity', 'Hardware', 'Interface', 'Bits', 'Hex Charachters']))\n",
    "df = df.append(df2)\n",
    "df2 = pd.DataFrame([['Battery Temperature', 'EPS Board', 'TBD', 10, 3]], columns=list(['Quantity', 'Hardware', 'Interface', 'Bits', 'Hex Charachters']))\n",
    "df = df.append(df2)\n",
    "df2 = pd.DataFrame([['Transmitter Current', 'Comms Board', 'TBD', 10, 3]], columns=list(['Quantity', 'Hardware', 'Interface', 'Bits', 'Hex Charachters']))\n",
    "df = df.append(df2)\n",
    "df2 = pd.DataFrame([['Receiver Current', 'Comms Board', 'TBD', 10, 3]], columns=list(['Quantity', 'Hardware', 'Interface', 'Bits', 'Hex Charachters']))\n",
    "df = df.append(df2)\n",
    "df2 = pd.DataFrame([['Beacon Current', 'Comms Board', 'TBD', 10, 3]], columns=list(['Quantity', 'Hardware', 'Interface', 'Bits', 'Hex Charachters']))\n",
    "df = df.append(df2)\n",
    "df2 = pd.DataFrame([['Boot Count', 'OBC Flash Memory', 'I2C', 12, 3]], columns=list(['Quantity', 'Hardware', 'Interface', 'Bits', 'Hex Charachters']))\n",
    "df = df.append(df2)\n",
    "df2 = pd.DataFrame([['year (boot time)', 'RTC', 'I2C', 12, 3]], columns=list(['Quantity', 'Hardware', 'Interface', 'Bits', 'Hex Charachters']))\n",
    "df = df.append(df2)\n",
    "df2 = pd.DataFrame([['month (boot time)', 'RTC', 'I2C', 4, 1]], columns=list(['Quantity', 'Hardware', 'Interface', 'Bits', 'Hex Charachters']))\n",
    "df = df.append(df2)\n",
    "df2 = pd.DataFrame([['date (boot time)', 'RTC', 'I2C', 8, 2]], columns=list(['Quantity', 'Hardware', 'Interface', 'Bits', 'Hex Charachters']))\n",
    "df = df.append(df2)\n",
    "df2 = pd.DataFrame([['hour (boot time)', 'RTC', 'I2C', 8, 2]], columns=list(['Quantity', 'Hardware', 'Interface', 'Bits', 'Hex Charachters']))\n",
    "df = df.append(df2)\n",
    "df2 = pd.DataFrame([['minute (boot time)', 'RTC', 'I2C', 8, 2]], columns=list(['Quantity', 'Hardware', 'Interface', 'Bits', 'Hex Charachters']))\n",
    "df = df.append(df2)\n",
    "df2 = pd.DataFrame([['OBC Temperature', 'OBC', 'I2C', 12, 3]], columns=list(['Quantity', 'Hardware', 'Interface', 'Bits', 'Hex Charachters']))\n",
    "df = df.append(df2)\n",
    "df2 = pd.DataFrame([['EPS Board Temperature', 'Comms Board', 'TBD', 12, 3]], columns=list(['Quantity', 'Hardware', 'Interface', 'Bits', 'Hex Charachters']))\n",
    "df = df.append(df2)\n",
    "\n",
    "df = df.reset_index()\n",
    "df = df.drop('index', axis=1)\n",
    "\n",
    "\n",
    "df\n",
    "\n",
    "df.to_csv(path_or_buf='/home/isaac/Documents/Satellites/DownlinkFormats/SafeHoldOperatingMode.csv')"
   ]
  },
  {
   "cell_type": "code",
   "execution_count": null,
   "metadata": {
    "collapsed": true
   },
   "outputs": [],
   "source": []
  }
 ],
 "metadata": {
  "kernelspec": {
   "display_name": "Python 3",
   "language": "python",
   "name": "python3"
  },
  "language_info": {
   "codemirror_mode": {
    "name": "ipython",
    "version": 3
   },
   "file_extension": ".py",
   "mimetype": "text/x-python",
   "name": "python",
   "nbconvert_exporter": "python",
   "pygments_lexer": "ipython3",
   "version": "3.6.1"
  }
 },
 "nbformat": 4,
 "nbformat_minor": 2
}
